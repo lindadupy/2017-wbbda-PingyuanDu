{
 "cells": [
  {
   "cell_type": "code",
   "execution_count": 1,
   "metadata": {
    "collapsed": true
   },
   "outputs": [],
   "source": [
    "%matplotlib inline\n",
    "import json\n",
    "import pandas as pd\n",
    "import numpy as np\n",
    "import matplotlib.pyplot as plt\n",
    "import seaborn as sns\n",
    "from pandas import read_csv\n",
    "from pandas import datetime\n",
    "from matplotlib import pyplot\n",
    "from matplotlib.pylab import rcParams\n",
    "%matplotlib inline\n",
    "import matplotlib.mlab as mlab\n",
    "from scipy import stats "
   ]
  },
  {
   "cell_type": "code",
   "execution_count": 2,
   "metadata": {
    "collapsed": false
   },
   "outputs": [],
   "source": [
    "rate = pd.read_csv('data.csv')\n",
    "data=pd.read_csv('st1.csv')"
   ]
  },
  {
   "cell_type": "code",
   "execution_count": 3,
   "metadata": {
    "collapsed": false
   },
   "outputs": [],
   "source": [
    "size = int(len(rate) * 0.57)"
   ]
  },
  {
   "cell_type": "code",
   "execution_count": 4,
   "metadata": {
    "collapsed": false
   },
   "outputs": [],
   "source": [
    "train, valid = data[0:size], data[size:size+52]"
   ]
  },
  {
   "cell_type": "code",
   "execution_count": 5,
   "metadata": {
    "collapsed": true
   },
   "outputs": [],
   "source": [
    "#postive correlation features\n",
    "features = ['aids','burial','cremation','death','diabetes','funeral',\n",
    "              'funeral_director','gun_shot','heart_disease','lung_cancer',\n",
    "              'mortality','stroke','suicide','lethal_injection',\n",
    "              'knife','fire','malnutrition','alcohol','dementia','Christmas','new_year',\n",
    "              'infant_mortality','cough','winter','snow','ice','freeze',\n",
    "              'headache','symptom','abdominal_pain','vomiting','dropsy',\n",
    "              'obesity','Alzheimers','pressure','bloody','despair',\n",
    "              'inflammation','arthritis','warm','hospital','debt','desperate',\n",
    "              'cholesterol','heart_attack','hypothermia','lonely','respiratory',\n",
    "              'temperature','vaccine','damp','pregnancy','poverty',\n",
    "              'insulation','blood_pressure','thrombosis','migration','heart_rate','January',\n",
    "              'December','death_register','funeral_flower','toxin',\n",
    "              'anxiety','mood_disorder','unemployment','gastrointestinal','sendentary','overcrowded',\n",
    "              'housing_tenure','emigration','lifestyle',\n",
    "              'ischaemic','cardiac','violence','aortic','aneurysm','pulmonary',\n",
    "              'Pulmonary_embolism','influenza','asthma','pneumonia','epilepsy',\n",
    "              'stillbirth','blood_viscosity','air_pollution','lung_disease','deprivation',\n",
    "              'urbanicity','pathophysiological','surgery','myocardial','convulsion',\n",
    "              'Major_Depressive_Disorder','after_death','funeral_arrangements','first_call',\n",
    "              'funeral_ceremony','funeral_services','condolences','death_certificate',\n",
    "              'funeral_home','church','death_notice','paper_thin',\n",
    "              'lose_weight','appetite_loss','physical_weakness','mental_confusion','Shortness_of_breath',\n",
    "            'incontinence','blotchy_hands',\n",
    "              'purple_hands','suffocation',\n",
    "              'death_symbol','coffin','Christian_Cross','cancer','funeral_news','births_deaths',\n",
    "              'chemotherapy','ultrasound','radiotherapy','paperdoll','dietary','death_row',\n",
    "              'slime','tinnitus','energy_cost','psychiatric','hypertension',\n",
    "              'homelessness','drug_therapy','hepatic','rhinitis','bronchitis','panic_disorder',\n",
    "              'infarction','myocardial_infarction','funeral_plans','obtunded','dry_cough',\n",
    "              'wheezing','nervosa','bulimia_nervosa','tickly_cough',\n",
    "              'funeral_insurance','bronchitis_cough','death_anxiety','dream_death','death_rattle',\n",
    "            'mumble','life_review','delirium','funeral_songs','home_death','suicide_methods',\n",
    "            'exsanguination','carbon_monoxide_poisoning','alcohol_abuse','life_expectancy',\n",
    "            'self_harming','murder','manslaughter','deicide','crucifixion',\n",
    "            'murder_weapon','purple_feet',\n",
    "            'food_poisoning','palpitation','nausea','citalopram','funeral_dresses','pandemia',\n",
    "            'obituary','mucus_cough','chesty_cough','phlegm','domestic_violence',\n",
    "            'ear_infections','sore_throat',\n",
    "            'rheumatiod','tonsillitis','amitriptyline','opiates','pain_medicine','palliative_care',\n",
    "            'opioids','neuropathic_pain','memory_loss','morphine','famine','perinatal_mortality',\n",
    "            'congenital_disease','neonatal','preterm',\n",
    "            'weak_pulse','emergency','treatment','fight',\n",
    "            'homicide','New_Years_eve','car_ownership','chill','energy_prices','sleep_longer',\n",
    "            'sharp_pain','heart_failure','memorial_service',\n",
    "            'ischaemic_heart_disease','Chronic_Obstructive_Pulmonary_Disease','trachea',\n",
    "            'tuberculosis','liver_disease','poor_diet','bowel','bowel_disease','bowel_cancer',\n",
    "            'cervical','high_cholesterol','swine_flu','rape','assualt','strangulation',\n",
    "            'narcotics','cervical_cancer','ankles_swell',\n",
    "            'delusion','neoplasms','genitourinary','endocrine_disease',\n",
    "            'endocrine','blood_disease','metabolic_disease','metabolic','physical_inactivity','arteries'\n",
    "           ]\n",
    "\n",
    "y_train = rate['weeklydeathrate'][0:size].values\n",
    "x_train = train[features]\n",
    "x_valid = valid[features]\n",
    "y_valid = rate['weeklydeathrate'][size:size+52].values"
   ]
  },
  {
   "cell_type": "code",
   "execution_count": 6,
   "metadata": {
    "collapsed": false
   },
   "outputs": [],
   "source": [
    "dateparse = lambda dates: pd.datetime.strptime(dates, '%Y-%m-%d')\n",
    "data=pd.read_csv('data.csv',parse_dates=['date'],index_col=0,date_parser=dateparse)\n",
    "L=data.index[size:size+52]"
   ]
  },
  {
   "cell_type": "code",
   "execution_count": 13,
   "metadata": {
    "collapsed": false
   },
   "outputs": [
    {
     "data": {
      "image/png": "[encoded data removed]",
      "text/plain": [
       "<matplotlib.figure.Figure at 0x110465400>"
      ]
     },
     "metadata": {},
     "output_type": "display_data"
    }
   ],
   "source": [
    "#forecast of weekly death rates in England\n",
    "from sklearn.linear_model import LinearRegression\n",
    "model = LinearRegression(fit_intercept=True, normalize=False, copy_X=True, n_jobs=1)\n",
    "model = model.fit(x_train, y_train)\n",
    "y_pred_base = model.predict(x_valid)\n",
    "\n",
    "x = L\n",
    "y = y_pred_base\n",
    "z = y_valid\n",
    "fig = plt.figure(figsize=(12,5))\n",
    "plt.plot(x,y,label=' predicted weekly death rates ',color=\"red\",linewidth=2)\n",
    "plt.plot(x,z,label='real weekly death reates')\n",
    "plt.xlabel(\"time series\")\n",
    "plt.ylabel(\"death number per 100,000 people\")\n",
    "plt.title(\"Data from 2010 to 2013 to predict weekly death rates in 2014\")\n",
    "from pylab import *\n",
    "ylim(-6,52)\n",
    "plt.legend()\n",
    "plt.show()"
   ]
  },
  {
   "cell_type": "code",
   "execution_count": 8,
   "metadata": {
    "collapsed": false
   },
   "outputs": [
    {
     "data": {
      "text/plain": [
       "2.2666419725966742"
      ]
     },
     "execution_count": 8,
     "metadata": {},
     "output_type": "execute_result"
    }
   ],
   "source": [
    "from sklearn.metrics import mean_squared_error, make_scorer\n",
    "mse = mean_squared_error(y_valid, y_pred_base)\n",
    "RMSE=np.sqrt(mse)\n",
    "RMSE"
   ]
  },
  {
   "cell_type": "code",
   "execution_count": 9,
   "metadata": {
    "collapsed": false
   },
   "outputs": [
    {
     "data": {
      "text/plain": [
       "1.8925067835819849"
      ]
     },
     "execution_count": 9,
     "metadata": {},
     "output_type": "execute_result"
    }
   ],
   "source": [
    "from sklearn.metrics import mean_absolute_error\n",
    "MAE = mean_absolute_error(y_valid,y_pred_base, sample_weight=None, multioutput='uniform_average')\n",
    "MAE"
   ]
  },
  {
   "cell_type": "code",
   "execution_count": 10,
   "metadata": {
    "collapsed": false
   },
   "outputs": [
    {
     "data": {
      "text/plain": [
       "11.359688019634889"
      ]
     },
     "execution_count": 10,
     "metadata": {},
     "output_type": "execute_result"
    }
   ],
   "source": [
    "from sklearn.utils import check_array\n",
    "from sklearn.utils.validation import check_array\n",
    "def mean_absolute_percentage_error(y_true, y_pred): \n",
    "    return np.mean((np.abs((y_true - y_pred) / y_true)) * 100)\n",
    "mape = mean_absolute_percentage_error(y_valid, y_pred_base)\n",
    "mape"
   ]
  },
  {
   "cell_type": "code",
   "execution_count": 11,
   "metadata": {
    "collapsed": false
   },
   "outputs": [
    {
     "data": {
      "text/plain": [
       "array([[ 1.        ,  0.62737554],\n",
       "       [ 0.62737554,  1.        ]])"
      ]
     },
     "execution_count": 11,
     "metadata": {},
     "output_type": "execute_result"
    }
   ],
   "source": [
    "np.corrcoef(y_valid,y_pred_base)"
   ]
  },
  {
   "cell_type": "code",
   "execution_count": null,
   "metadata": {
    "collapsed": true
   },
   "outputs": [],
   "source": []
  }
 ],
 "metadata": {
  "anaconda-cloud": {},
  "kernelspec": {
   "display_name": "Python 3",
   "language": "python",
   "name": "python3"
  },
  "language_info": {
   "codemirror_mode": {
    "name": "ipython",
    "version": 3
   },
   "file_extension": ".py",
   "mimetype": "text/x-python",
   "name": "python",
   "nbconvert_exporter": "python",
   "pygments_lexer": "ipython3",
   "version": "3.6.0"
  }
 },
 "nbformat": 4,
 "nbformat_minor": 1
}
